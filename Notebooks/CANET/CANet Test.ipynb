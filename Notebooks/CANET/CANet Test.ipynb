{
 "cells": [
  {
   "cell_type": "code",
   "metadata": {
    "collapsed": false,
    "jupyter": {
     "outputs_hidden": false
    },
    "ExecuteTime": {
     "end_time": "2024-09-19T12:39:11.673579Z",
     "start_time": "2024-09-19T12:39:09.877174Z"
    }
   },
   "source": [
    "import gc\n",
    "from collections import OrderedDict\n",
    "from pathlib import Path\n",
    "import time\n",
    "import glob\n",
    "\n",
    "import numpy as np\n",
    "import pandas as pd\n",
    "import tensorflow as tf\n",
    "from tensorflow import keras\n",
    "from pympler import asizeof\n",
    "from tqdm.auto import tqdm\n",
    "\n",
    "np.set_printoptions(precision=4, suppress=True)\n",
    "\n",
    "print('tensorflow', tf.__version__)\n",
    "print(tf.config.list_physical_devices('GPU'))"
   ],
   "outputs": [
    {
     "name": "stdout",
     "output_type": "stream",
     "text": [
      "tensorflow 2.15.0-rc0\n",
      "[]\n"
     ]
    }
   ],
   "execution_count": 1
  },
  {
   "cell_type": "markdown",
   "metadata": {
    "collapsed": false,
    "jupyter": {
     "outputs_hidden": false
    }
   },
   "source": [
    "# Define paths and functions"
   ]
  },
  {
   "cell_type": "code",
   "metadata": {
    "collapsed": false,
    "jupyter": {
     "outputs_hidden": false
    },
    "ExecuteTime": {
     "end_time": "2024-09-19T12:39:15.851828Z",
     "start_time": "2024-09-19T12:39:15.845873Z"
    }
   },
   "source": [
    "######### SELECT THE DATASET #########\n",
    "DATASET = 'Syncan'\n",
    "# DATASET = 'X-CANIDS'\n",
    "\n",
    "DATASET_DIR = f\"../../Dataset/{DATASET}\"\n",
    "\n",
    "if DATASET == 'Syncan':\n",
    "    data_files = {\n",
    "        'train': [\n",
    "            f'{DATASET_DIR}/train_train.csv',\n",
    "        ],\n",
    "        'valid': [\n",
    "            f'{DATASET_DIR}/train_valid.csv'\n",
    "        ],\n",
    "        'test': [\n",
    "            f'{DATASET_DIR}/test_normal.csv',\n",
    "            f'{DATASET_DIR}/test_flooding.csv',\n",
    "            f'{DATASET_DIR}/test_plateau.csv',\n",
    "            f'{DATASET_DIR}/test_continuous.csv',\n",
    "            f'{DATASET_DIR}/test_playback.csv',\n",
    "            f'{DATASET_DIR}/test_suppress.csv'\n",
    "        ]\n",
    "    }\n",
    "elif DATASET == 'X-CANIDS':\n",
    "    NSIG = '107'\n",
    "    DATASET_DIR = f\"../../Dataset/{DATASET}\"\n",
    "    data_files = {\n",
    "        'train': glob.glob(f'{DATASET_DIR}/canet/sig{NSIG}_dump[1-4].parquet'),\n",
    "        'valid': [f'{DATASET_DIR}/canet/sig{NSIG}_dump5.parquet'],\n",
    "        'test': glob.glob(f'{DATASET_DIR}/canet/sig{NSIG}_dump6-*.parquet')\n",
    "    }"
   ],
   "outputs": [],
   "execution_count": 2
  },
  {
   "cell_type": "code",
   "metadata": {
    "collapsed": false,
    "jupyter": {
     "outputs_hidden": false
    },
    "ExecuteTime": {
     "end_time": "2024-09-19T12:39:16.299597Z",
     "start_time": "2024-09-19T12:39:16.295844Z"
    }
   },
   "source": [
    "def load_arrange_data(file_path, dataset, print_option=True):\n",
    "    if dataset == 'X-CANIDS':\n",
    "        df = pd.read_parquet(file_path)\n",
    "        df.reset_index(drop=True, inplace=True)\n",
    "        df['ID'] = df['ID'].astype(str)\n",
    "        if print_option:\n",
    "            print(f'# rows: {df.shape[0]:,}')\n",
    "            print(df['Session'].value_counts())\n",
    "        return df\n",
    "    elif dataset == 'Syncan':\n",
    "        df = pd.read_csv(file_path, delimiter=',')\n",
    "        df['Time'] = round(df['Time'] / 1000, 7)     # milliseconds to seconds\n",
    "        df.rename(columns={'Label': 'Session'}, inplace=True)\n",
    "        if print_option:\n",
    "            print(f'# rows: {df.shape[0]:,}')\n",
    "            print(df['Session'].value_counts())\n",
    "        return df"
   ],
   "outputs": [],
   "execution_count": 3
  },
  {
   "cell_type": "markdown",
   "metadata": {
    "collapsed": false,
    "jupyter": {
     "outputs_hidden": false
    }
   },
   "source": [
    "# Prepare input data"
   ]
  },
  {
   "cell_type": "code",
   "metadata": {
    "collapsed": false,
    "jupyter": {
     "outputs_hidden": false
    },
    "ExecuteTime": {
     "end_time": "2024-09-19T12:39:17.628037Z",
     "start_time": "2024-09-19T12:39:17.626378Z"
    }
   },
   "source": [
    "WINDOW_SIZE = 1\n",
    "TRAIN_START = WINDOW_SIZE + 1"
   ],
   "outputs": [],
   "execution_count": 4
  },
  {
   "cell_type": "markdown",
   "metadata": {
    "collapsed": false,
    "jupyter": {
     "outputs_hidden": false
    }
   },
   "source": [
    "### Frequencies and number of signals of CAN IDs"
   ]
  },
  {
   "cell_type": "code",
   "metadata": {
    "collapsed": false,
    "jupyter": {
     "outputs_hidden": false
    },
    "ExecuteTime": {
     "end_time": "2024-09-19T12:39:18.972393Z",
     "start_time": "2024-09-19T12:39:18.965650Z"
    }
   },
   "source": [
    "if DATASET == 'Syncan':\n",
    "    ID_MPS = {'id1': 67, 'id10': 22, 'id2': 33, 'id3': 67, 'id4': 22, 'id5': 67, 'id6': 33, 'id7': 67, 'id8': 67, 'id9': 33}\n",
    "    ID_NSIG = OrderedDict([('id1', 2), ('id10', 4), ('id2', 3), ('id3', 2), ('id4', 1), ('id5', 2), ('id6', 2), ('id7', 2), ('id8', 1), ('id9', 1)])\n",
    "elif DATASET == 'X-CANIDS':\n",
    "    ID_MPS = {'1151': 50, '1265': 50, '128': 100, '129': 100, '1292': 10, '1322': 10, '1345': 11, '1349': 10, '1351': 10, '1353': 10, '1363': 5, '1365': 10, '1366': 10, '1367': 10, '1419': 10, '1427': 5, '1440': 1, '1456': 1, '273': 100, '274': 100, '275': 100, '354': 100, '399': 100, '512': 100, '544': 100, '593': 100, '608': 100, '68': 1, '688': 100, '790': 100, '809': 100, '897': 50, '899': 50, '902': 50, '903': 50}\n",
    "    ID_NSIG = OrderedDict([('1151', 1), ('1265', 3), ('128', 5), ('129', 3), ('1292', 2), ('1322', 1), ('1345', 3), ('1349', 4), ('1351', 2), ('1353', 4), ('1363', 4), ('1365', 1), ('1366', 5), ('1367', 2), ('1419', 5), ('1427', 4), ('1440', 1), ('1456', 1), ('273', 4), ('274', 3), ('275', 4), ('354', 3), ('399', 3), ('512', 1), ('544', 4), ('593', 2), ('608', 5), ('68', 2), ('688', 2), ('790', 6), ('809', 6), ('897', 1), ('899', 2), ('902', 4), ('903', 4)])"
   ],
   "outputs": [],
   "execution_count": 5
  },
  {
   "cell_type": "markdown",
   "metadata": {
    "collapsed": false,
    "jupyter": {
     "outputs_hidden": false
    }
   },
   "source": [
    "### Data input pipeline functions\n",
    "Each CAN ID will have the different length of time steps and number of signals"
   ]
  },
  {
   "cell_type": "code",
   "metadata": {
    "collapsed": false,
    "jupyter": {
     "outputs_hidden": false
    },
    "ExecuteTime": {
     "end_time": "2024-09-19T12:39:20.153169Z",
     "start_time": "2024-09-19T12:39:20.144580Z"
    }
   },
   "source": [
    "def get_repeated_sequences(data, can_id, n_sig, n_step):\n",
    "    sig_columns = [f'Signal{i}' for i in range(1, n_sig + 1)]\n",
    "    df_id = data.loc[data['ID'] == can_id, ['Idx', 'Session'] + sig_columns]\n",
    "    np_sig = df_id[['Session'] + sig_columns].to_numpy()\n",
    "    np_seq = np.lib.stride_tricks.sliding_window_view(np_sig, window_shape=n_step, axis=0)\n",
    "    np_seq = np_seq.swapaxes(1, 2)\n",
    "    np_seq = np_seq[:, :, 1:]\n",
    "    n_seq = np_seq.shape[0]\n",
    "    end_idx = data['Idx'].iloc[-1]\n",
    "    n_repeats = np.diff(df_id['Idx'].to_list() + [end_idx])[-n_seq:]\n",
    "    repeated_seq = np.repeat(np_seq, n_repeats, axis=0)\n",
    "    return repeated_seq  # An example of its shape: (344291, 50, 3)\n",
    "\n",
    "def prepare_dataset(file_path, time_cutoff):\n",
    "    data = load_arrange_data(file_path, dataset=DATASET, print_option=False)\n",
    "    data = data.reset_index(names='Idx')\n",
    "    time_start = data['Time'].iloc[0]\n",
    "    n_rows_to_use = data.loc[data['Time'] > time_start + time_cutoff, 'Time'].shape[0]\n",
    "    data_dict = dict()\n",
    "    time_and_labels = data.loc[data['Time'] > time_start + time_cutoff, ['Time', 'Session']].to_numpy()\n",
    "    for id, nsig in ID_NSIG.items():\n",
    "        seq_data = get_repeated_sequences(data, id, nsig, ID_MPS[id])\n",
    "        data_dict[id] = seq_data[-n_rows_to_use:].copy()\n",
    "    assert len(time_and_labels) == n_rows_to_use\n",
    "    return data_dict, time_and_labels\n",
    "\n",
    "def load_inputs(data_path, time_cutoff, shuffle=True, seed=0):\n",
    "    x_dict, x_time_label = prepare_dataset(data_path, time_cutoff=time_cutoff)\n",
    "    if shuffle:\n",
    "        np.random.seed(seed)\n",
    "        n_samples = len(x_dict[list(x_dict.keys())[0]])\n",
    "        shuffled_idx = np.arange(n_samples)\n",
    "        np.random.shuffle(shuffled_idx)\n",
    "        x_dict = {id: seqs[shuffled_idx] for id, seqs in x_dict.items()}\n",
    "        x_time_label = x_time_label[shuffled_idx]\n",
    "    y = np.concatenate([x_dict[id][:, -1, :] for id in FIXED_IDS], axis=1)\n",
    "    return x_dict, y, x_time_label\n",
    "\n",
    "def label_to_bin(string_labels):\n",
    "    assert len(string_labels.shape) == 1\n",
    "    n_samples = len(string_labels)\n",
    "    binary_labels = np.zeros(n_samples)\n",
    "    binary_labels[string_labels != 'Normal'] = 1\n",
    "    return binary_labels"
   ],
   "outputs": [],
   "execution_count": 6
  },
  {
   "cell_type": "markdown",
   "metadata": {
    "collapsed": false,
    "jupyter": {
     "outputs_hidden": false
    }
   },
   "source": [
    "# Create CANet model"
   ]
  },
  {
   "cell_type": "code",
   "metadata": {
    "collapsed": false,
    "jupyter": {
     "outputs_hidden": false
    },
    "ExecuteTime": {
     "end_time": "2024-09-19T12:39:21.126825Z",
     "start_time": "2024-09-19T12:39:21.123793Z"
    }
   },
   "source": [
    "N_SIGS = sum([n_sig for n_sig in ID_NSIG.values()])\n",
    "FIXED_IDS = list(ID_NSIG.keys())\n",
    "FIXED_IDS.sort()\n",
    "\n",
    "def create_canet_model(h):\n",
    "    inputs = {id: keras.Input(shape=(ID_MPS[id], ID_NSIG[id]), name=id) for id in FIXED_IDS}\n",
    "    lstms = [keras.layers.LSTM(h * ID_NSIG[id], name=f'lstm_{id}') for id in FIXED_IDS]\n",
    "    x_id = [lstms[i](inputs[id]) for i, id in enumerate(FIXED_IDS)]\n",
    "    x = keras.layers.Concatenate()(x_id)\n",
    "    x = keras.layers.Dense((h * N_SIGS) // 2, activation='elu')(x)\n",
    "    x = keras.layers.Dense(N_SIGS - 1, activation='elu')(x)\n",
    "    outputs = keras.layers.Dense(N_SIGS, activation='elu')(x)\n",
    "    return keras.Model(inputs, outputs)"
   ],
   "outputs": [],
   "execution_count": 7
  },
  {
   "cell_type": "code",
   "metadata": {
    "collapsed": false,
    "jupyter": {
     "outputs_hidden": false
    },
    "ExecuteTime": {
     "end_time": "2024-09-19T12:39:22.316655Z",
     "start_time": "2024-09-19T12:39:21.475964Z"
    }
   },
   "source": [
    "# Create the model\n",
    "h = 5\n",
    "model = create_canet_model(h)\n",
    "keras.utils.plot_model(model, show_shapes=True)"
   ],
   "outputs": [
    {
     "data": {
      "image/png": "[encoded data removed]",
      "text/plain": [
       "<IPython.core.display.Image object>"
      ]
     },
     "execution_count": 8,
     "metadata": {},
     "output_type": "execute_result"
    }
   ],
   "execution_count": 8
  },
  {
   "cell_type": "markdown",
   "metadata": {
    "collapsed": false,
    "jupyter": {
     "outputs_hidden": false
    }
   },
   "source": [
    "# If X-CANIDS Dataset"
   ]
  },
  {
   "cell_type": "markdown",
   "metadata": {
    "collapsed": false,
    "jupyter": {
     "outputs_hidden": false
    }
   },
   "source": "### Save predictions of the chosen model"
  },
  {
   "cell_type": "code",
   "metadata": {
    "ExecuteTime": {
     "end_time": "2024-09-19T10:43:29.300997Z",
     "start_time": "2024-09-19T10:43:29.272426Z"
    }
   },
   "source": [
    "model.summary()\n",
    "print(f'Model size: {asizeof.asizeof(model)/1024:.2f} KB')\n",
    "print(f'# parameters: {model.count_params():,}')"
   ],
   "outputs": [
    {
     "name": "stdout",
     "output_type": "stream",
     "text": [
      "Model: \"model\"\n",
      "__________________________________________________________________________________________________\n",
      " Layer (type)                Output Shape                 Param #   Connected to                  \n",
      "==================================================================================================\n",
      " id1 (InputLayer)            [(None, 67, 2)]              0         []                            \n",
      "                                                                                                  \n",
      " id10 (InputLayer)           [(None, 22, 4)]              0         []                            \n",
      "                                                                                                  \n",
      " id2 (InputLayer)            [(None, 33, 3)]              0         []                            \n",
      "                                                                                                  \n",
      " id3 (InputLayer)            [(None, 67, 2)]              0         []                            \n",
      "                                                                                                  \n",
      " id4 (InputLayer)            [(None, 22, 1)]              0         []                            \n",
      "                                                                                                  \n",
      " id5 (InputLayer)            [(None, 67, 2)]              0         []                            \n",
      "                                                                                                  \n",
      " id6 (InputLayer)            [(None, 33, 2)]              0         []                            \n",
      "                                                                                                  \n",
      " id7 (InputLayer)            [(None, 67, 2)]              0         []                            \n",
      "                                                                                                  \n",
      " id8 (InputLayer)            [(None, 67, 1)]              0         []                            \n",
      "                                                                                                  \n",
      " id9 (InputLayer)            [(None, 33, 1)]              0         []                            \n",
      "                                                                                                  \n",
      " lstm_id1 (LSTM)             (None, 10)                   520       ['id1[0][0]']                 \n",
      "                                                                                                  \n",
      " lstm_id10 (LSTM)            (None, 20)                   2000      ['id10[0][0]']                \n",
      "                                                                                                  \n",
      " lstm_id2 (LSTM)             (None, 15)                   1140      ['id2[0][0]']                 \n",
      "                                                                                                  \n",
      " lstm_id3 (LSTM)             (None, 10)                   520       ['id3[0][0]']                 \n",
      "                                                                                                  \n",
      " lstm_id4 (LSTM)             (None, 5)                    140       ['id4[0][0]']                 \n",
      "                                                                                                  \n",
      " lstm_id5 (LSTM)             (None, 10)                   520       ['id5[0][0]']                 \n",
      "                                                                                                  \n",
      " lstm_id6 (LSTM)             (None, 10)                   520       ['id6[0][0]']                 \n",
      "                                                                                                  \n",
      " lstm_id7 (LSTM)             (None, 10)                   520       ['id7[0][0]']                 \n",
      "                                                                                                  \n",
      " lstm_id8 (LSTM)             (None, 5)                    140       ['id8[0][0]']                 \n",
      "                                                                                                  \n",
      " lstm_id9 (LSTM)             (None, 5)                    140       ['id9[0][0]']                 \n",
      "                                                                                                  \n",
      " concatenate (Concatenate)   (None, 100)                  0         ['lstm_id1[0][0]',            \n",
      "                                                                     'lstm_id10[0][0]',           \n",
      "                                                                     'lstm_id2[0][0]',            \n",
      "                                                                     'lstm_id3[0][0]',            \n",
      "                                                                     'lstm_id4[0][0]',            \n",
      "                                                                     'lstm_id5[0][0]',            \n",
      "                                                                     'lstm_id6[0][0]',            \n",
      "                                                                     'lstm_id7[0][0]',            \n",
      "                                                                     'lstm_id8[0][0]',            \n",
      "                                                                     'lstm_id9[0][0]']            \n",
      "                                                                                                  \n",
      " dense (Dense)               (None, 50)                   5050      ['concatenate[0][0]']         \n",
      "                                                                                                  \n",
      " dense_1 (Dense)             (None, 19)                   969       ['dense[0][0]']               \n",
      "                                                                                                  \n",
      " dense_2 (Dense)             (None, 20)                   400       ['dense_1[0][0]']             \n",
      "                                                                                                  \n",
      "==================================================================================================\n",
      "Total params: 12579 (49.14 KB)\n",
      "Trainable params: 12579 (49.14 KB)\n",
      "Non-trainable params: 0 (0.00 Byte)\n",
      "__________________________________________________________________________________________________\n",
      "Model size: 450.74 KB\n",
      "# parameters: 12,579\n"
     ]
    }
   ],
   "execution_count": 12
  },
  {
   "cell_type": "code",
   "metadata": {
    "collapsed": false,
    "jupyter": {
     "outputs_hidden": false
    },
    "ExecuteTime": {
     "end_time": "2024-09-19T10:43:29.601542Z",
     "start_time": "2024-09-19T10:43:29.301688Z"
    }
   },
   "source": [
    "dt_experiment = '2024-06-30_19-10-20'\n",
    "epoch = 10\n",
    "weight_file = f'../../models/CANET/{DATASET}_{dt_experiment}_epoch{epoch:02}'\n",
    "model.load_weights(weight_file)\n",
    "mse = tf.keras.losses.MeanSquaredError(reduction=tf.keras.losses.Reduction.NONE)"
   ],
   "outputs": [
    {
     "ename": "NotFoundError",
     "evalue": "Unsuccessful TensorSliceReader constructor: Failed to find any matching files for ../../models/CANET/Syncan_2024-06-30_19-10-20_epoch10",
     "output_type": "error",
     "traceback": [
      "\u001B[0;31m---------------------------------------------------------------------------\u001B[0m",
      "\u001B[0;31mNotFoundError\u001B[0m                             Traceback (most recent call last)",
      "Cell \u001B[0;32mIn[13], line 4\u001B[0m\n\u001B[1;32m      2\u001B[0m epoch \u001B[38;5;241m=\u001B[39m \u001B[38;5;241m10\u001B[39m\n\u001B[1;32m      3\u001B[0m weight_file \u001B[38;5;241m=\u001B[39m \u001B[38;5;124mf\u001B[39m\u001B[38;5;124m'\u001B[39m\u001B[38;5;124m../../models/CANET/\u001B[39m\u001B[38;5;132;01m{\u001B[39;00mDATASET\u001B[38;5;132;01m}\u001B[39;00m\u001B[38;5;124m_\u001B[39m\u001B[38;5;132;01m{\u001B[39;00mdt_experiment\u001B[38;5;132;01m}\u001B[39;00m\u001B[38;5;124m_epoch\u001B[39m\u001B[38;5;132;01m{\u001B[39;00mepoch\u001B[38;5;132;01m:\u001B[39;00m\u001B[38;5;124m02\u001B[39m\u001B[38;5;132;01m}\u001B[39;00m\u001B[38;5;124m'\u001B[39m\n\u001B[0;32m----> 4\u001B[0m \u001B[43mmodel\u001B[49m\u001B[38;5;241;43m.\u001B[39;49m\u001B[43mload_weights\u001B[49m\u001B[43m(\u001B[49m\u001B[43mweight_file\u001B[49m\u001B[43m)\u001B[49m\n\u001B[1;32m      5\u001B[0m mse \u001B[38;5;241m=\u001B[39m tf\u001B[38;5;241m.\u001B[39mkeras\u001B[38;5;241m.\u001B[39mlosses\u001B[38;5;241m.\u001B[39mMeanSquaredError(reduction\u001B[38;5;241m=\u001B[39mtf\u001B[38;5;241m.\u001B[39mkeras\u001B[38;5;241m.\u001B[39mlosses\u001B[38;5;241m.\u001B[39mReduction\u001B[38;5;241m.\u001B[39mNONE)\n",
      "File \u001B[0;32m~/miniforge3/envs/canival/lib/python3.10/site-packages/keras/src/utils/traceback_utils.py:70\u001B[0m, in \u001B[0;36mfilter_traceback.<locals>.error_handler\u001B[0;34m(*args, **kwargs)\u001B[0m\n\u001B[1;32m     67\u001B[0m     filtered_tb \u001B[38;5;241m=\u001B[39m _process_traceback_frames(e\u001B[38;5;241m.\u001B[39m__traceback__)\n\u001B[1;32m     68\u001B[0m     \u001B[38;5;66;03m# To get the full stack trace, call:\u001B[39;00m\n\u001B[1;32m     69\u001B[0m     \u001B[38;5;66;03m# `tf.debugging.disable_traceback_filtering()`\u001B[39;00m\n\u001B[0;32m---> 70\u001B[0m     \u001B[38;5;28;01mraise\u001B[39;00m e\u001B[38;5;241m.\u001B[39mwith_traceback(filtered_tb) \u001B[38;5;28;01mfrom\u001B[39;00m \u001B[38;5;28;01mNone\u001B[39;00m\n\u001B[1;32m     71\u001B[0m \u001B[38;5;28;01mfinally\u001B[39;00m:\n\u001B[1;32m     72\u001B[0m     \u001B[38;5;28;01mdel\u001B[39;00m filtered_tb\n",
      "File \u001B[0;32m~/miniforge3/envs/canival/lib/python3.10/site-packages/tensorflow/python/training/py_checkpoint_reader.py:31\u001B[0m, in \u001B[0;36merror_translator\u001B[0;34m(e)\u001B[0m\n\u001B[1;32m     27\u001B[0m error_message \u001B[38;5;241m=\u001B[39m \u001B[38;5;28mstr\u001B[39m(e)\n\u001B[1;32m     28\u001B[0m \u001B[38;5;28;01mif\u001B[39;00m \u001B[38;5;124m'\u001B[39m\u001B[38;5;124mnot found in checkpoint\u001B[39m\u001B[38;5;124m'\u001B[39m \u001B[38;5;129;01min\u001B[39;00m error_message \u001B[38;5;129;01mor\u001B[39;00m (\n\u001B[1;32m     29\u001B[0m     \u001B[38;5;124m'\u001B[39m\u001B[38;5;124mFailed to find any \u001B[39m\u001B[38;5;124m'\u001B[39m\n\u001B[1;32m     30\u001B[0m     \u001B[38;5;124m'\u001B[39m\u001B[38;5;124mmatching files for\u001B[39m\u001B[38;5;124m'\u001B[39m) \u001B[38;5;129;01min\u001B[39;00m error_message:\n\u001B[0;32m---> 31\u001B[0m   \u001B[38;5;28;01mraise\u001B[39;00m errors_impl\u001B[38;5;241m.\u001B[39mNotFoundError(\u001B[38;5;28;01mNone\u001B[39;00m, \u001B[38;5;28;01mNone\u001B[39;00m, error_message)\n\u001B[1;32m     32\u001B[0m \u001B[38;5;28;01melif\u001B[39;00m \u001B[38;5;124m'\u001B[39m\u001B[38;5;124mSliced checkpoints are not supported\u001B[39m\u001B[38;5;124m'\u001B[39m \u001B[38;5;129;01min\u001B[39;00m error_message \u001B[38;5;129;01mor\u001B[39;00m (\n\u001B[1;32m     33\u001B[0m     \u001B[38;5;124m'\u001B[39m\u001B[38;5;124mData type \u001B[39m\u001B[38;5;124m'\u001B[39m\n\u001B[1;32m     34\u001B[0m     \u001B[38;5;124m'\u001B[39m\u001B[38;5;124mnot \u001B[39m\u001B[38;5;124m'\u001B[39m\n\u001B[1;32m     35\u001B[0m     \u001B[38;5;124m'\u001B[39m\u001B[38;5;124msupported\u001B[39m\u001B[38;5;124m'\u001B[39m) \u001B[38;5;129;01min\u001B[39;00m error_message:\n\u001B[1;32m     36\u001B[0m   \u001B[38;5;28;01mraise\u001B[39;00m errors_impl\u001B[38;5;241m.\u001B[39mUnimplementedError(\u001B[38;5;28;01mNone\u001B[39;00m, \u001B[38;5;28;01mNone\u001B[39;00m, error_message)\n",
      "\u001B[0;31mNotFoundError\u001B[0m: Unsuccessful TensorSliceReader constructor: Failed to find any matching files for ../../models/CANET/Syncan_2024-06-30_19-10-20_epoch10"
     ]
    }
   ],
   "execution_count": 13
  },
  {
   "cell_type": "code",
   "metadata": {},
   "source": [
    "def slice_data_for_canet(file_path: str, n_sliced: int):\n",
    "    try:\n",
    "        attack = Path(file_path).stem.split('-')[1]\n",
    "    except IndexError:  # benign data\n",
    "        attack = 'normal'\n",
    "    df = pd.read_parquet(file_path)\n",
    "    p = len(df) // n_sliced\n",
    "    split_indices = list(range(0, len(df) + 1, p))[:-1]\n",
    "    paths = []\n",
    "    latest_msg = None\n",
    "    assertion = False\n",
    "    for i in range(n_sliced):\n",
    "        if i + 1 < n_sliced:\n",
    "            sliced_df = df.iloc[split_indices[i]:split_indices[i+1]]\n",
    "        else:  # the last slice\n",
    "            sliced_df = df.iloc[split_indices[i]:]\n",
    "        if attack == 'susp':  # a special process for suspension attack datasets\n",
    "            t_start, t_end = sliced_df['Time'].min(), sliced_df['Time'].max()\n",
    "            target_id = int(Path(file_path).stem.split('-')[2][:-1], 16)\n",
    "            msgs = sliced_df.loc[sliced_df['ID'] == target_id]\n",
    "            try:\n",
    "                if (len(msgs) == 0 or 480 < t_start < 1440):  # if there is no message from the target AID\n",
    "                    assert latest_msg is not None\n",
    "                    t_end = min(t_end, 1440)\n",
    "                    n_fake_msgs = ID_MPS[str(target_id)] * int(round(t_end - t_start, 0))\n",
    "                    if n_fake_msgs > 0:\n",
    "                        df_fake_msgs = pd.concat([latest_msg] * n_fake_msgs, axis=0)\n",
    "                        df_fake_msgs['Time'] = np.linspace(t_start, t_end, num=n_fake_msgs)\n",
    "                        df_fake_msgs['Session'] = 1\n",
    "                        sliced_df = pd.concat([sliced_df, df_fake_msgs])\n",
    "                        dups = sliced_df.duplicated(subset=['Time'], keep='first')\n",
    "                        if dups.sum() > 0:  # if there are duplicated timestamps, remove the fake msg\n",
    "                            sliced_df = sliced_df[dups != True]\n",
    "                        sliced_df.sort_values('Time', ignore_index=True, inplace=True)\n",
    "                else:\n",
    "                    latest_msg = msgs.tail(1)  # keep the latest target AID message\n",
    "            except AssertionError:\n",
    "                assertion = True\n",
    "        save_path = str(Path(file_path).parent / f'cache/{Path(file_path).stem}_{i+1}.parquet')\n",
    "        sliced_df.to_parquet(save_path)\n",
    "        paths.append(save_path)\n",
    "    if assertion:\n",
    "        print(f'[INFO] {hex(target_id)} is not in the signal dataset. Fake message insertion skipped.')\n",
    "    return paths"
   ],
   "outputs": [],
   "execution_count": null
  },
  {
   "cell_type": "code",
   "metadata": {
    "collapsed": false,
    "jupyter": {
     "outputs_hidden": false
    }
   },
   "source": [
    "batch_size = 250\n",
    "\n",
    "# Measure inference speed\n",
    "with tf.device('/CPU:0'):\n",
    "    test_file = slice_data_for_canet(data_files['test'][0], 15)[0]\n",
    "    print(f'Getting predictions of the first test file {Path(test_file).name} with measuring inference speed')\n",
    "    x_test_dict, y_test, time_label_test = load_inputs(test_file, time_cutoff=WINDOW_SIZE + 1, shuffle=False)\n",
    "    x_time = time_label_test[:, 0]\n",
    "    x_label = label_to_bin(time_label_test[:, 1])\n",
    "    with tf.device('CPU'):\n",
    "        test_ds = tf.data.Dataset.from_tensor_slices(x_test_dict)\n",
    "        test_ds = test_ds.batch(batch_size).prefetch(tf.data.AUTOTUNE)\n",
    "        start_time = time.process_time()\n",
    "        y_pred = model.predict(test_ds, verbose=0)\n",
    "        mse_values = mse(y_test, y_pred).numpy()\n",
    "    end_time = time.process_time()\n",
    "del test_ds\n",
    "gc.collect()\n",
    "process_time = end_time - start_time\n",
    "inference_speed = len(y_test) / process_time\n",
    "print(\"-----------------------------------------\")\n",
    "print(f'CPU execution time: {process_time:,} seconds')\n",
    "print(f'Inference speed: {inference_speed:.2f} messages per second')\n",
    "print(\"-----------------------------------------\")\n",
    "\n",
    "# Save the results of all test files\n",
    "for test_file in tqdm(data_files['test']):\n",
    "    # if Path(test_file).stem.split('_')[-1] == 'dump6':  # todo: if necessary, uncomment\n",
    "    #     tag = 'norm'\n",
    "    # else:\n",
    "    tag = '-'.join(Path(test_file).stem.split('-')[1:])\n",
    "    save_path = f'../../Results/{DATASET}_CANet_sig107_{dt_experiment}_{tag}.parquet'\n",
    "    sliced_files = slice_data_for_canet(test_file, 15)\n",
    "    results = []\n",
    "    for sliced_file in sliced_files:\n",
    "        x_test_dict, y_test, time_label_test = load_inputs(sliced_file, time_cutoff=WINDOW_SIZE + 1, shuffle=False)\n",
    "        x_time = time_label_test[:, 0]\n",
    "        x_label = time_label_test[:, 1]\n",
    "        with tf.device('CPU'):\n",
    "            test_ds = tf.data.Dataset.from_tensor_slices(x_test_dict)\n",
    "            test_ds = test_ds.batch(batch_size).prefetch(tf.data.AUTOTUNE)\n",
    "        y_pred = model.predict(test_ds, verbose=0)\n",
    "        mse_values = mse(y_test, y_pred).numpy()\n",
    "        result = pd.DataFrame({'Time': x_time, 'MSE': mse_values, 'Session': x_label}, dtype=float)\n",
    "        result['Time'] = result['Time'].round(6)\n",
    "        result['Session'] = result['Session'].astype(int)\n",
    "        results.append(result)\n",
    "        del test_ds\n",
    "        gc.collect()\n",
    "    results = pd.concat(results, axis=0, ignore_index=True)\n",
    "    results.to_parquet(save_path)\n",
    "    print(f'Predictions are saved at {save_path}')"
   ],
   "outputs": [],
   "execution_count": null
  },
  {
   "cell_type": "code",
   "metadata": {},
   "source": [
    "# Save the results of the validation files\n",
    "batch_size = 250\n",
    "val_file = data_files['valid'][0]\n",
    "tag = 'valid'\n",
    "save_path = f'../../Results/{DATASET}_CANet_sig107_{dt_experiment}_{tag}.parquet'\n",
    "sliced_files = slice_data_for_canet(val_file, 15)\n",
    "results = []\n",
    "for sliced_file in sliced_files:\n",
    "    x_dict, y, time_label = load_inputs(sliced_file, time_cutoff=WINDOW_SIZE + 1, shuffle=False)\n",
    "    x_time = time_label[:, 0]\n",
    "    x_label = time_label[:, 1]\n",
    "    with tf.device('CPU'):\n",
    "        ds = tf.data.Dataset.from_tensor_slices(x_dict)\n",
    "        ds = ds.batch(batch_size).prefetch(tf.data.AUTOTUNE)\n",
    "    y_pred = model.predict(ds, verbose=0)\n",
    "    mse_values = mse(y, y_pred).numpy()\n",
    "    result = pd.DataFrame({'Time': x_time, 'MSE': mse_values, 'Session': x_label}, dtype=float)\n",
    "    result['Time'] = result['Time'].round(6)\n",
    "    result['Session'] = result['Session'].astype(int)\n",
    "    results.append(result)\n",
    "    del ds\n",
    "    gc.collect()\n",
    "results = pd.concat(results, axis=0, ignore_index=True)\n",
    "results.to_parquet(save_path, index=False)\n",
    "print(f'Predictions are saved at {save_path}')"
   ],
   "outputs": [],
   "execution_count": null
  },
  {
   "cell_type": "markdown",
   "metadata": {
    "collapsed": false,
    "jupyter": {
     "outputs_hidden": false
    }
   },
   "source": [
    "# If SynCAN Dataset"
   ]
  },
  {
   "cell_type": "markdown",
   "metadata": {
    "collapsed": false,
    "jupyter": {
     "outputs_hidden": false
    }
   },
   "source": "### Save predictions of the chosen model"
  },
  {
   "metadata": {
    "ExecuteTime": {
     "end_time": "2024-09-19T12:40:23.184146Z",
     "start_time": "2024-09-19T12:40:23.181400Z"
    }
   },
   "cell_type": "code",
   "source": [
    "import warnings\n",
    "from sklearn.exceptions import UndefinedMetricWarning\n",
    "warnings.filterwarnings(action='ignore', category=UndefinedMetricWarning)"
   ],
   "outputs": [],
   "execution_count": 11
  },
  {
   "cell_type": "code",
   "metadata": {
    "collapsed": false,
    "jupyter": {
     "outputs_hidden": false
    },
    "ExecuteTime": {
     "end_time": "2024-09-19T12:40:24.141672Z",
     "start_time": "2024-09-19T12:40:23.498970Z"
    }
   },
   "source": [
    "dt_experiment = '2023-04-14_16-14-40'\n",
    "best_epoch = 5\n",
    "weight_file = f'../../models/CANET/{DATASET}_{dt_experiment}_epoch{best_epoch:02}'\n",
    "model = create_canet_model(h)\n",
    "model.summary()\n",
    "print(f'Model size: {asizeof.asizeof(model)/1024:.2f} KB')\n",
    "print(f'# parameters: {model.count_params():,}')\n",
    "model.load_weights(weight_file)\n",
    "mse = tf.keras.losses.MeanSquaredError(reduction=tf.keras.losses.Reduction.NONE)"
   ],
   "outputs": [
    {
     "name": "stdout",
     "output_type": "stream",
     "text": [
      "WARNING:tensorflow:Detecting that an object or model or tf.train.Checkpoint is being deleted with unrestored values. See the following logs for the specific values in question. To silence these warnings, use `status.expect_partial()`. See https://www.tensorflow.org/api_docs/python/tf/train/Checkpoint#restorefor details about the status object returned by the restore function.\n",
      "WARNING:tensorflow:Value in checkpoint could not be found in the restored object: (root).optimizer.iter\n",
      "WARNING:tensorflow:Value in checkpoint could not be found in the restored object: (root).optimizer.beta_1\n",
      "WARNING:tensorflow:Value in checkpoint could not be found in the restored object: (root).optimizer.beta_2\n",
      "WARNING:tensorflow:Value in checkpoint could not be found in the restored object: (root).optimizer.decay\n",
      "WARNING:tensorflow:Value in checkpoint could not be found in the restored object: (root).optimizer.learning_rate\n",
      "WARNING:tensorflow:Value in checkpoint could not be found in the restored object: (root).optimizer's state 'm' for (root).layer_with_weights-10.kernel\n",
      "WARNING:tensorflow:Value in checkpoint could not be found in the restored object: (root).optimizer's state 'm' for (root).layer_with_weights-10.bias\n",
      "WARNING:tensorflow:Value in checkpoint could not be found in the restored object: (root).optimizer's state 'm' for (root).layer_with_weights-11.kernel\n",
      "WARNING:tensorflow:Value in checkpoint could not be found in the restored object: (root).optimizer's state 'm' for (root).layer_with_weights-11.bias\n",
      "WARNING:tensorflow:Value in checkpoint could not be found in the restored object: (root).optimizer's state 'm' for (root).layer_with_weights-12.kernel\n",
      "WARNING:tensorflow:Value in checkpoint could not be found in the restored object: (root).optimizer's state 'm' for (root).layer_with_weights-12.bias\n",
      "WARNING:tensorflow:Value in checkpoint could not be found in the restored object: (root).optimizer's state 'm' for (root).layer_with_weights-0.cell.kernel\n",
      "WARNING:tensorflow:Value in checkpoint could not be found in the restored object: (root).optimizer's state 'm' for (root).layer_with_weights-0.cell.recurrent_kernel\n",
      "WARNING:tensorflow:Value in checkpoint could not be found in the restored object: (root).optimizer's state 'm' for (root).layer_with_weights-0.cell.bias\n",
      "WARNING:tensorflow:Value in checkpoint could not be found in the restored object: (root).optimizer's state 'm' for (root).layer_with_weights-1.cell.kernel\n",
      "WARNING:tensorflow:Value in checkpoint could not be found in the restored object: (root).optimizer's state 'm' for (root).layer_with_weights-1.cell.recurrent_kernel\n",
      "WARNING:tensorflow:Value in checkpoint could not be found in the restored object: (root).optimizer's state 'm' for (root).layer_with_weights-1.cell.bias\n",
      "WARNING:tensorflow:Value in checkpoint could not be found in the restored object: (root).optimizer's state 'm' for (root).layer_with_weights-2.cell.kernel\n",
      "WARNING:tensorflow:Value in checkpoint could not be found in the restored object: (root).optimizer's state 'm' for (root).layer_with_weights-2.cell.recurrent_kernel\n",
      "WARNING:tensorflow:Value in checkpoint could not be found in the restored object: (root).optimizer's state 'm' for (root).layer_with_weights-2.cell.bias\n",
      "WARNING:tensorflow:Value in checkpoint could not be found in the restored object: (root).optimizer's state 'm' for (root).layer_with_weights-3.cell.kernel\n",
      "WARNING:tensorflow:Value in checkpoint could not be found in the restored object: (root).optimizer's state 'm' for (root).layer_with_weights-3.cell.recurrent_kernel\n",
      "WARNING:tensorflow:Value in checkpoint could not be found in the restored object: (root).optimizer's state 'm' for (root).layer_with_weights-3.cell.bias\n",
      "WARNING:tensorflow:Value in checkpoint could not be found in the restored object: (root).optimizer's state 'm' for (root).layer_with_weights-4.cell.kernel\n",
      "WARNING:tensorflow:Value in checkpoint could not be found in the restored object: (root).optimizer's state 'm' for (root).layer_with_weights-4.cell.recurrent_kernel\n",
      "WARNING:tensorflow:Value in checkpoint could not be found in the restored object: (root).optimizer's state 'm' for (root).layer_with_weights-4.cell.bias\n",
      "WARNING:tensorflow:Value in checkpoint could not be found in the restored object: (root).optimizer's state 'm' for (root).layer_with_weights-5.cell.kernel\n",
      "WARNING:tensorflow:Value in checkpoint could not be found in the restored object: (root).optimizer's state 'm' for (root).layer_with_weights-5.cell.recurrent_kernel\n",
      "WARNING:tensorflow:Value in checkpoint could not be found in the restored object: (root).optimizer's state 'm' for (root).layer_with_weights-5.cell.bias\n",
      "WARNING:tensorflow:Value in checkpoint could not be found in the restored object: (root).optimizer's state 'm' for (root).layer_with_weights-6.cell.kernel\n",
      "WARNING:tensorflow:Value in checkpoint could not be found in the restored object: (root).optimizer's state 'm' for (root).layer_with_weights-6.cell.recurrent_kernel\n",
      "WARNING:tensorflow:Value in checkpoint could not be found in the restored object: (root).optimizer's state 'm' for (root).layer_with_weights-6.cell.bias\n",
      "WARNING:tensorflow:Value in checkpoint could not be found in the restored object: (root).optimizer's state 'm' for (root).layer_with_weights-7.cell.kernel\n",
      "WARNING:tensorflow:Value in checkpoint could not be found in the restored object: (root).optimizer's state 'm' for (root).layer_with_weights-7.cell.recurrent_kernel\n",
      "WARNING:tensorflow:Value in checkpoint could not be found in the restored object: (root).optimizer's state 'm' for (root).layer_with_weights-7.cell.bias\n",
      "WARNING:tensorflow:Value in checkpoint could not be found in the restored object: (root).optimizer's state 'm' for (root).layer_with_weights-8.cell.kernel\n",
      "WARNING:tensorflow:Value in checkpoint could not be found in the restored object: (root).optimizer's state 'm' for (root).layer_with_weights-8.cell.recurrent_kernel\n",
      "WARNING:tensorflow:Value in checkpoint could not be found in the restored object: (root).optimizer's state 'm' for (root).layer_with_weights-8.cell.bias\n",
      "WARNING:tensorflow:Value in checkpoint could not be found in the restored object: (root).optimizer's state 'm' for (root).layer_with_weights-9.cell.kernel\n",
      "WARNING:tensorflow:Value in checkpoint could not be found in the restored object: (root).optimizer's state 'm' for (root).layer_with_weights-9.cell.recurrent_kernel\n",
      "WARNING:tensorflow:Value in checkpoint could not be found in the restored object: (root).optimizer's state 'm' for (root).layer_with_weights-9.cell.bias\n",
      "WARNING:tensorflow:Value in checkpoint could not be found in the restored object: (root).optimizer's state 'v' for (root).layer_with_weights-10.kernel\n",
      "WARNING:tensorflow:Value in checkpoint could not be found in the restored object: (root).optimizer's state 'v' for (root).layer_with_weights-10.bias\n",
      "WARNING:tensorflow:Value in checkpoint could not be found in the restored object: (root).optimizer's state 'v' for (root).layer_with_weights-11.kernel\n",
      "WARNING:tensorflow:Value in checkpoint could not be found in the restored object: (root).optimizer's state 'v' for (root).layer_with_weights-11.bias\n",
      "WARNING:tensorflow:Value in checkpoint could not be found in the restored object: (root).optimizer's state 'v' for (root).layer_with_weights-12.kernel\n",
      "WARNING:tensorflow:Value in checkpoint could not be found in the restored object: (root).optimizer's state 'v' for (root).layer_with_weights-12.bias\n",
      "WARNING:tensorflow:Value in checkpoint could not be found in the restored object: (root).optimizer's state 'v' for (root).layer_with_weights-0.cell.kernel\n",
      "WARNING:tensorflow:Value in checkpoint could not be found in the restored object: (root).optimizer's state 'v' for (root).layer_with_weights-0.cell.recurrent_kernel\n",
      "WARNING:tensorflow:Value in checkpoint could not be found in the restored object: (root).optimizer's state 'v' for (root).layer_with_weights-0.cell.bias\n",
      "WARNING:tensorflow:Value in checkpoint could not be found in the restored object: (root).optimizer's state 'v' for (root).layer_with_weights-1.cell.kernel\n",
      "WARNING:tensorflow:Value in checkpoint could not be found in the restored object: (root).optimizer's state 'v' for (root).layer_with_weights-1.cell.recurrent_kernel\n",
      "WARNING:tensorflow:Value in checkpoint could not be found in the restored object: (root).optimizer's state 'v' for (root).layer_with_weights-1.cell.bias\n",
      "WARNING:tensorflow:Value in checkpoint could not be found in the restored object: (root).optimizer's state 'v' for (root).layer_with_weights-2.cell.kernel\n",
      "WARNING:tensorflow:Value in checkpoint could not be found in the restored object: (root).optimizer's state 'v' for (root).layer_with_weights-2.cell.recurrent_kernel\n",
      "WARNING:tensorflow:Value in checkpoint could not be found in the restored object: (root).optimizer's state 'v' for (root).layer_with_weights-2.cell.bias\n",
      "WARNING:tensorflow:Value in checkpoint could not be found in the restored object: (root).optimizer's state 'v' for (root).layer_with_weights-3.cell.kernel\n",
      "WARNING:tensorflow:Value in checkpoint could not be found in the restored object: (root).optimizer's state 'v' for (root).layer_with_weights-3.cell.recurrent_kernel\n",
      "WARNING:tensorflow:Value in checkpoint could not be found in the restored object: (root).optimizer's state 'v' for (root).layer_with_weights-3.cell.bias\n",
      "WARNING:tensorflow:Value in checkpoint could not be found in the restored object: (root).optimizer's state 'v' for (root).layer_with_weights-4.cell.kernel\n",
      "WARNING:tensorflow:Value in checkpoint could not be found in the restored object: (root).optimizer's state 'v' for (root).layer_with_weights-4.cell.recurrent_kernel\n",
      "WARNING:tensorflow:Value in checkpoint could not be found in the restored object: (root).optimizer's state 'v' for (root).layer_with_weights-4.cell.bias\n",
      "WARNING:tensorflow:Value in checkpoint could not be found in the restored object: (root).optimizer's state 'v' for (root).layer_with_weights-5.cell.kernel\n",
      "WARNING:tensorflow:Value in checkpoint could not be found in the restored object: (root).optimizer's state 'v' for (root).layer_with_weights-5.cell.recurrent_kernel\n",
      "WARNING:tensorflow:Value in checkpoint could not be found in the restored object: (root).optimizer's state 'v' for (root).layer_with_weights-5.cell.bias\n",
      "WARNING:tensorflow:Value in checkpoint could not be found in the restored object: (root).optimizer's state 'v' for (root).layer_with_weights-6.cell.kernel\n",
      "WARNING:tensorflow:Value in checkpoint could not be found in the restored object: (root).optimizer's state 'v' for (root).layer_with_weights-6.cell.recurrent_kernel\n",
      "WARNING:tensorflow:Value in checkpoint could not be found in the restored object: (root).optimizer's state 'v' for (root).layer_with_weights-6.cell.bias\n",
      "WARNING:tensorflow:Value in checkpoint could not be found in the restored object: (root).optimizer's state 'v' for (root).layer_with_weights-7.cell.kernel\n",
      "WARNING:tensorflow:Value in checkpoint could not be found in the restored object: (root).optimizer's state 'v' for (root).layer_with_weights-7.cell.recurrent_kernel\n",
      "WARNING:tensorflow:Value in checkpoint could not be found in the restored object: (root).optimizer's state 'v' for (root).layer_with_weights-7.cell.bias\n",
      "WARNING:tensorflow:Value in checkpoint could not be found in the restored object: (root).optimizer's state 'v' for (root).layer_with_weights-8.cell.kernel\n",
      "WARNING:tensorflow:Value in checkpoint could not be found in the restored object: (root).optimizer's state 'v' for (root).layer_with_weights-8.cell.recurrent_kernel\n",
      "WARNING:tensorflow:Value in checkpoint could not be found in the restored object: (root).optimizer's state 'v' for (root).layer_with_weights-8.cell.bias\n",
      "WARNING:tensorflow:Value in checkpoint could not be found in the restored object: (root).optimizer's state 'v' for (root).layer_with_weights-9.cell.kernel\n",
      "WARNING:tensorflow:Value in checkpoint could not be found in the restored object: (root).optimizer's state 'v' for (root).layer_with_weights-9.cell.recurrent_kernel\n",
      "WARNING:tensorflow:Value in checkpoint could not be found in the restored object: (root).optimizer's state 'v' for (root).layer_with_weights-9.cell.bias\n",
      "Model: \"model_2\"\n",
      "__________________________________________________________________________________________________\n",
      " Layer (type)                Output Shape                 Param #   Connected to                  \n",
      "==================================================================================================\n",
      " id1 (InputLayer)            [(None, 67, 2)]              0         []                            \n",
      "                                                                                                  \n",
      " id10 (InputLayer)           [(None, 22, 4)]              0         []                            \n",
      "                                                                                                  \n",
      " id2 (InputLayer)            [(None, 33, 3)]              0         []                            \n",
      "                                                                                                  \n",
      " id3 (InputLayer)            [(None, 67, 2)]              0         []                            \n",
      "                                                                                                  \n",
      " id4 (InputLayer)            [(None, 22, 1)]              0         []                            \n",
      "                                                                                                  \n",
      " id5 (InputLayer)            [(None, 67, 2)]              0         []                            \n",
      "                                                                                                  \n",
      " id6 (InputLayer)            [(None, 33, 2)]              0         []                            \n",
      "                                                                                                  \n",
      " id7 (InputLayer)            [(None, 67, 2)]              0         []                            \n",
      "                                                                                                  \n",
      " id8 (InputLayer)            [(None, 67, 1)]              0         []                            \n",
      "                                                                                                  \n",
      " id9 (InputLayer)            [(None, 33, 1)]              0         []                            \n",
      "                                                                                                  \n",
      " lstm_id1 (LSTM)             (None, 10)                   520       ['id1[0][0]']                 \n",
      "                                                                                                  \n",
      " lstm_id10 (LSTM)            (None, 20)                   2000      ['id10[0][0]']                \n",
      "                                                                                                  \n",
      " lstm_id2 (LSTM)             (None, 15)                   1140      ['id2[0][0]']                 \n",
      "                                                                                                  \n",
      " lstm_id3 (LSTM)             (None, 10)                   520       ['id3[0][0]']                 \n",
      "                                                                                                  \n",
      " lstm_id4 (LSTM)             (None, 5)                    140       ['id4[0][0]']                 \n",
      "                                                                                                  \n",
      " lstm_id5 (LSTM)             (None, 10)                   520       ['id5[0][0]']                 \n",
      "                                                                                                  \n",
      " lstm_id6 (LSTM)             (None, 10)                   520       ['id6[0][0]']                 \n",
      "                                                                                                  \n",
      " lstm_id7 (LSTM)             (None, 10)                   520       ['id7[0][0]']                 \n",
      "                                                                                                  \n",
      " lstm_id8 (LSTM)             (None, 5)                    140       ['id8[0][0]']                 \n",
      "                                                                                                  \n",
      " lstm_id9 (LSTM)             (None, 5)                    140       ['id9[0][0]']                 \n",
      "                                                                                                  \n",
      " concatenate_2 (Concatenate  (None, 100)                  0         ['lstm_id1[0][0]',            \n",
      " )                                                                   'lstm_id10[0][0]',           \n",
      "                                                                     'lstm_id2[0][0]',            \n",
      "                                                                     'lstm_id3[0][0]',            \n",
      "                                                                     'lstm_id4[0][0]',            \n",
      "                                                                     'lstm_id5[0][0]',            \n",
      "                                                                     'lstm_id6[0][0]',            \n",
      "                                                                     'lstm_id7[0][0]',            \n",
      "                                                                     'lstm_id8[0][0]',            \n",
      "                                                                     'lstm_id9[0][0]']            \n",
      "                                                                                                  \n",
      " dense_6 (Dense)             (None, 50)                   5050      ['concatenate_2[0][0]']       \n",
      "                                                                                                  \n",
      " dense_7 (Dense)             (None, 19)                   969       ['dense_6[0][0]']             \n",
      "                                                                                                  \n",
      " dense_8 (Dense)             (None, 20)                   400       ['dense_7[0][0]']             \n",
      "                                                                                                  \n",
      "==================================================================================================\n",
      "Total params: 12579 (49.14 KB)\n",
      "Trainable params: 12579 (49.14 KB)\n",
      "Non-trainable params: 0 (0.00 Byte)\n",
      "__________________________________________________________________________________________________\n",
      "Model size: 452.16 KB\n",
      "# parameters: 12,579\n"
     ]
    }
   ],
   "execution_count": 12
  },
  {
   "cell_type": "code",
   "metadata": {
    "collapsed": false,
    "jupyter": {
     "outputs_hidden": false
    },
    "ExecuteTime": {
     "end_time": "2024-09-19T12:44:38.195471Z",
     "start_time": "2024-09-19T12:40:24.740628Z"
    }
   },
   "source": [
    "batch_size = 250\n",
    "\n",
    "with tf.device('/CPU:0'):\n",
    "    # Load the test dataset\n",
    "    test_file = data_files['test'][0]\n",
    "    print(f'Getting predictions of the first test file {Path(test_file).name} with measuring inference speed')\n",
    "    attack = Path(test_file).stem.split('_')[-1]\n",
    "    x_test_dict, y_test, time_label_test = load_inputs(test_file, time_cutoff=WINDOW_SIZE + 1, shuffle=False)\n",
    "    x_time = time_label_test[:, 0]\n",
    "    x_label = time_label_test[:, 1]\n",
    "    with tf.device('CPU'):\n",
    "        test_ds = tf.data.Dataset.from_tensor_slices(x_test_dict)\n",
    "        test_ds = test_ds.batch(batch_size).prefetch(tf.data.AUTOTUNE)\n",
    "        start_time = time.process_time()\n",
    "        y_pred = model.predict(test_ds, verbose=0)\n",
    "        mse_values = mse(y_test, y_pred).numpy()\n",
    "    end_time = time.process_time()\n",
    "\n",
    "# Measure inference speed\n",
    "process_time = end_time - start_time\n",
    "inference_speed = len(y_test) / process_time\n",
    "print(\"-----------------------------------------\")\n",
    "print(f'CPU execution time: {process_time:,} seconds')\n",
    "print(f'Inference speed: {inference_speed:.2f} messages per second')\n",
    "print(\"-----------------------------------------\")\n",
    "\n",
    "# Save the results of the first file\n",
    "results = pd.DataFrame({'Time': x_time, 'MSE': mse_values, 'Session': x_label})\n",
    "results['Time'] = results['Time'].round(7)\n",
    "results['Session'] = results['Session'].astype(int)\n",
    "save_path = f'../../Results/{DATASET}_CANet_{dt_experiment}_{attack}.parquet'\n",
    "results.to_parquet(save_path, index=False)\n",
    "print(f'Predictions are saved at {save_path}')\n",
    "\n",
    "# Save the results of the rest test files\n",
    "for test_file in tqdm(data_files['test'][1:]):\n",
    "    print(f'Getting predictions of {Path(test_file).name}')\n",
    "    attack = Path(test_file).stem.split('_')[-1]\n",
    "    x_test_dict, y_test, time_label_test = load_inputs(test_file, time_cutoff=WINDOW_SIZE + 1, shuffle=False)\n",
    "    x_time = time_label_test[:, 0]\n",
    "    x_label = time_label_test[:, 1]\n",
    "    with tf.device('CPU'):\n",
    "        test_ds = tf.data.Dataset.from_tensor_slices(x_test_dict)\n",
    "        test_ds = test_ds.batch(batch_size).prefetch(tf.data.AUTOTUNE)\n",
    "    y_pred = model.predict(test_ds, verbose=0)\n",
    "    mse_values = mse(y_test, y_pred).numpy()\n",
    "    results = pd.DataFrame({'Time': x_time, 'MSE': mse_values, 'Session': x_label})\n",
    "    results['Time'] = results['Time'].round(7)\n",
    "    results['Session'] = results['Session'].astype(int)\n",
    "    save_path = f'../../Results/{DATASET}_CANet_{dt_experiment}_{attack}.parquet'\n",
    "    results.to_parquet(save_path, index=False)\n",
    "    print(f'Predictions are saved at {save_path}')"
   ],
   "outputs": [
    {
     "name": "stdout",
     "output_type": "stream",
     "text": [
      "Getting predictions of the first test file test_normal.csv with measuring inference speed\n",
      "-----------------------------------------\n",
      "CPU execution time: 157.97751100000002 seconds\n",
      "Inference speed: 13603.82 messages per second\n",
      "-----------------------------------------\n",
      "Predictions are saved at ../../Results/Syncan_CANet_2023-04-14_16-14-40_normal.parquet\n"
     ]
    },
    {
     "data": {
      "text/plain": [
       "  0%|          | 0/5 [00:00<?, ?it/s]"
      ],
      "application/vnd.jupyter.widget-view+json": {
       "version_major": 2,
       "version_minor": 0,
       "model_id": "11da0917811b4f6db5c8f192dfb70e15"
      }
     },
     "metadata": {},
     "output_type": "display_data"
    },
    {
     "name": "stdout",
     "output_type": "stream",
     "text": [
      "Getting predictions of test_flooding.csv\n",
      "Predictions are saved at ../../Results/Syncan_CANet_2023-04-14_16-14-40_flooding.parquet\n",
      "Getting predictions of test_plateau.csv\n",
      "Predictions are saved at ../../Results/Syncan_CANet_2023-04-14_16-14-40_plateau.parquet\n",
      "Getting predictions of test_continuous.csv\n",
      "Predictions are saved at ../../Results/Syncan_CANet_2023-04-14_16-14-40_continuous.parquet\n",
      "Getting predictions of test_playback.csv\n",
      "Predictions are saved at ../../Results/Syncan_CANet_2023-04-14_16-14-40_playback.parquet\n",
      "Getting predictions of test_suppress.csv\n",
      "Predictions are saved at ../../Results/Syncan_CANet_2023-04-14_16-14-40_suppress.parquet\n"
     ]
    }
   ],
   "execution_count": 13
  },
  {
   "cell_type": "code",
   "metadata": {
    "collapsed": false,
    "jupyter": {
     "outputs_hidden": false
    },
    "ExecuteTime": {
     "end_time": "2024-09-19T12:46:29.137390Z",
     "start_time": "2024-09-19T12:45:59.723187Z"
    }
   },
   "source": [
    "# Save scores of the validation set\n",
    "batch_size = 250\n",
    "for val_file in tqdm(data_files['valid']):\n",
    "    print(f'Getting predictions of {Path(val_file).name}')\n",
    "    attack = Path(val_file).stem.split('_')[-1]\n",
    "    x_val_dict, y_val, time_label_val = load_inputs(val_file, time_cutoff=WINDOW_SIZE + 1, shuffle=False)\n",
    "    x_time = time_label_val[:, 0]\n",
    "    x_label = time_label_val[:, 1]\n",
    "    with tf.device('CPU'):\n",
    "        val_ds = tf.data.Dataset.from_tensor_slices(x_val_dict)\n",
    "        val_ds = val_ds.batch(batch_size).prefetch(tf.data.AUTOTUNE)\n",
    "    y_pred = model.predict(val_ds, verbose=0)\n",
    "    mse_values = mse(y_val, y_pred).numpy()\n",
    "    results = pd.DataFrame({'Time': x_time, 'MSE': mse_values, 'Session': x_label})\n",
    "    results['Time'] = results['Time'].round(7)\n",
    "    results['Session'] = results['Session'].astype(int)\n",
    "    save_path = f'../../Results/{DATASET}_CANet_{dt_experiment}_{attack}.parquet'\n",
    "    results.to_parquet(save_path, index=False)\n",
    "    print(f'Reconstruction errors are saved at {save_path}')"
   ],
   "outputs": [
    {
     "data": {
      "text/plain": [
       "  0%|          | 0/1 [00:00<?, ?it/s]"
      ],
      "application/vnd.jupyter.widget-view+json": {
       "version_major": 2,
       "version_minor": 0,
       "model_id": "39d01f1b792c4777b5031f21a6f85755"
      }
     },
     "metadata": {},
     "output_type": "display_data"
    },
    {
     "name": "stdout",
     "output_type": "stream",
     "text": [
      "Getting predictions of train_valid.csv\n",
      "Reconstruction errors are saved at ../../Results/Syncan_CANet_2023-04-14_16-14-40_valid.parquet\n"
     ]
    }
   ],
   "execution_count": 14
  }
 ],
 "metadata": {
  "kernelspec": {
   "display_name": "Python 3 (ipykernel)",
   "language": "python",
   "name": "python3"
  },
  "language_info": {
   "codemirror_mode": {
    "name": "ipython",
    "version": 3
   },
   "file_extension": ".py",
   "mimetype": "text/x-python",
   "name": "python",
   "nbconvert_exporter": "python",
   "pygments_lexer": "ipython3",
   "version": "3.10.14"
  }
 },
 "nbformat": 4,
 "nbformat_minor": 4
}
